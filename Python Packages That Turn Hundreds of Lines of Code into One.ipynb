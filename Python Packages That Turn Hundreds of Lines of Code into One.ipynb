{
 "cells": [
  {
   "cell_type": "markdown",
   "metadata": {},
   "source": [
    "# 11-Python Packages That Turn Hundreds of Lines of Code into One"
   ]
  },
  {
   "cell_type": "markdown",
   "metadata": {},
   "source": [
    "## 1. Pandas"
   ]
  },
  {
   "cell_type": "code",
   "execution_count": 41,
   "metadata": {},
   "outputs": [],
   "source": [
    "# !pip install pandas"
   ]
  },
  {
   "cell_type": "markdown",
   "metadata": {},
   "source": [
    "the data into a DataFrame, performing the group-by operation, and printing the result.<br>\n",
    "дані в DataFrame, виконуючи операцію групування та друкуючи результат."
   ]
  },
  {
   "cell_type": "code",
   "execution_count": 42,
   "metadata": {},
   "outputs": [
    {
     "name": "stdout",
     "output_type": "stream",
     "text": [
      "category\n",
      "Clothing       125.0\n",
      "Electronics    300.0\n",
      "Furniture      200.0\n",
      "Name: sales, dtype: float64\n"
     ]
    }
   ],
   "source": [
    "import pandas as pd\n",
    "\n",
    "# Step 1: Read the CSV file into a DataFrame\n",
    "df = pd.read_csv('sales_data.csv')\n",
    "\n",
    "# Step 2: Group by 'category' and calculate the mean sales for each category\n",
    "mean_sales = df.groupby('category')['sales'].mean()\n",
    "\n",
    "# Step 3: Print the result\n",
    "print(mean_sales)"
   ]
  },
  {
   "cell_type": "code",
   "execution_count": 43,
   "metadata": {},
   "outputs": [
    {
     "data": {
      "text/plain": [
       "category\n",
       "Clothing       125.0\n",
       "Electronics    300.0\n",
       "Furniture      200.0\n",
       "Name: sales, dtype: float64"
      ]
     },
     "execution_count": 43,
     "metadata": {},
     "output_type": "execute_result"
    }
   ],
   "source": [
    "import pandas as pd\n",
    "\n",
    "# Condensed one-liner\n",
    "df = pd.read_csv('sales_data.csv').groupby('category')['sales'].mean()\n",
    "# print(df)\n",
    "df"
   ]
  },
  {
   "cell_type": "markdown",
   "metadata": {},
   "source": [
    "## 2. Numpy"
   ]
  },
  {
   "cell_type": "markdown",
   "metadata": {},
   "source": [
    "In this demonstration, we’ll multiply two matrices using the np.dot() function in just one line. Let's say you have two matrices:<br>\n",
    "У цій демонстрації ми помножимо дві матриці за допомогою функції np.dot() лише в одному рядку. Припустимо, у вас є дві матриці:"
   ]
  },
  {
   "cell_type": "code",
   "execution_count": 44,
   "metadata": {},
   "outputs": [],
   "source": [
    "# Define the matrices\n",
    "matrix1 = [[1, 2], [3, 4]]\n",
    "\n",
    "matrix2 = [[5, 6], [7, 8]]"
   ]
  },
  {
   "cell_type": "markdown",
   "metadata": {},
   "source": [
    "#### Before (Without NumPy):"
   ]
  },
  {
   "cell_type": "code",
   "execution_count": 45,
   "metadata": {},
   "outputs": [
    {
     "name": "stdout",
     "output_type": "stream",
     "text": [
      "Result (Without Numpy):\n",
      "[19, 22]\n",
      "[43, 50]\n"
     ]
    }
   ],
   "source": [
    "# Perform matrix multiplication manually\n",
    "result = [[0, 0], [0, 0]]\n",
    "\n",
    "for i in range(len(matrix1)):\n",
    "    for j in range(len(matrix2[0])):\n",
    "        for k in range(len(matrix2)):\n",
    "            result[i][j] += matrix1[i][k] * matrix2[k][j]\n",
    "\n",
    "# Print the result\n",
    "print(\"Result (Without Numpy):\")\n",
    "for r in result:\n",
    "    print(r)"
   ]
  },
  {
   "cell_type": "markdown",
   "metadata": {},
   "source": [
    "#### After (With NumPy):"
   ]
  },
  {
   "cell_type": "code",
   "execution_count": 46,
   "metadata": {},
   "outputs": [
    {
     "name": "stdout",
     "output_type": "stream",
     "text": [
      "Result (With Numpy):\n",
      " [[19 22]\n",
      " [43 50]]\n"
     ]
    }
   ],
   "source": [
    "import numpy as np\n",
    "# Step 1: Define the matrices using Numpy arrays\n",
    "matrix1_ = np.array(matrix1)\n",
    "\n",
    "matrix2_ = np.array(matrix2)\n",
    "\n",
    "# Step 2: Perform matrix multiplication using np.dot()\n",
    "result_ = np.dot(matrix1_, matrix2_)\n",
    "\n",
    "# Step 3: Print the result\n",
    "print(\"Result (With Numpy):\\n\", result_)"
   ]
  },
  {
   "cell_type": "markdown",
   "metadata": {},
   "source": [
    "## 3. SQLAlchemy"
   ]
  },
  {
   "cell_type": "markdown",
   "metadata": {},
   "source": [
    "#### Before SQLAlchemy (Using Raw SQL):\n",
    "You’d need to manually write SQL statements for every action:<br>\n",
    "Вам потрібно буде вручну написати оператори SQL для кожної дії:"
   ]
  },
  {
   "cell_type": "code",
   "execution_count": 57,
   "metadata": {},
   "outputs": [
    {
     "ename": "SyntaxError",
     "evalue": "invalid syntax (525694452.py, line 2)",
     "output_type": "error",
     "traceback": [
      "\u001b[1;36m  Cell \u001b[1;32mIn[57], line 2\u001b[1;36m\u001b[0m\n\u001b[1;33m    CREATE TABLE users (\u001b[0m\n\u001b[1;37m           ^\u001b[0m\n\u001b[1;31mSyntaxError\u001b[0m\u001b[1;31m:\u001b[0m invalid syntax\n"
     ]
    }
   ],
   "source": [
    "# -- Step 1: Create the users table\n",
    "CREATE TABLE users (\n",
    "  id INTEGER PRIMARY KEY AUTOINCREMENT,\n",
    "  username TEXT,\n",
    "  active BOOLEAN\n",
    ");\n",
    "\n",
    "# -- Step 2: Insert multiple users\n",
    "INSERT INTO users (username, active) VALUES ('Alice', 1);\n",
    "INSERT INTO users (username, active) VALUES ('Bob', 0);\n",
    "INSERT INTO users (username, active) VALUES ('Charlie', 1);\n",
    "\n",
    "# -- Step 3: Query active users\n",
    "SELECT * FROM users WHERE active = 1;"
   ]
  },
  {
   "cell_type": "markdown",
   "metadata": {},
   "source": [
    "#### After SQLAlchemy (Using Python ORM):\n",
    "Після SQLAlchemy (з використанням Python ORM):\n",
    "With SQLAlchemy, you define your data model once and interact with it using Python objects. Here’s the equivalent code:<br>\n",
    "За допомогою SQLAlchemy ви один раз визначаєте свою модель даних і взаємодієте з нею за допомогою об’єктів Python. Ось еквівалентний код:"
   ]
  },
  {
   "cell_type": "code",
   "execution_count": 49,
   "metadata": {},
   "outputs": [
    {
     "name": "stdout",
     "output_type": "stream",
     "text": [
      "Requirement already satisfied: sqlalchemy in c:\\users\\ks797\\appdata\\local\\programs\\python\\python312\\lib\\site-packages (2.0.35)\n",
      "Requirement already satisfied: typing-extensions>=4.6.0 in c:\\users\\ks797\\appdata\\local\\programs\\python\\python312\\lib\\site-packages (from sqlalchemy) (4.12.2)\n",
      "Requirement already satisfied: greenlet!=0.4.17 in c:\\users\\ks797\\appdata\\local\\programs\\python\\python312\\lib\\site-packages (from sqlalchemy) (3.1.1)\n"
     ]
    }
   ],
   "source": [
    "!pip install sqlalchemy"
   ]
  },
  {
   "cell_type": "code",
   "execution_count": 56,
   "metadata": {},
   "outputs": [
    {
     "name": "stdout",
     "output_type": "stream",
     "text": [
      "User ID: 1, Username: Alice\n",
      "User ID: 4, Username: Alice\n",
      "User ID: 5, Username: Bob\n"
     ]
    }
   ],
   "source": [
    "from sqlalchemy import create_engine, Column, Integer, String, Boolean\n",
    "# from sqlalchemy.ext.declarative import declarative_base\n",
    "from sqlalchemy.orm import sessionmaker, declarative_base\n",
    "\n",
    "# Step 1: Define the table using SQLAlchemy models\n",
    "Base = declarative_base()\n",
    "\n",
    "class User(Base):\n",
    "    __tablename__ = 'users'\n",
    "    id = Column(Integer, primary_key=True)\n",
    "    username = Column(String)\n",
    "    active = Column(Boolean)\n",
    "\n",
    "# Step 2: Set up the database engine and session\n",
    "engine = create_engine('sqlite:///example_2.db')\n",
    "Session = sessionmaker(bind=engine)\n",
    "session = Session()\n",
    "\n",
    "# Create the table\n",
    "Base.metadata.create_all(engine)\n",
    "\n",
    "# Step 3: Insert multiple users\n",
    "new_users = [User(username='Alice', active=True),\n",
    "             User(username='Bob', active=True),\n",
    "             User(username='Charlie', active=False)]\n",
    "\n",
    "session.add_all(new_users)\n",
    "session.commit()\n",
    "\n",
    "# Step 4: Query active users\n",
    "active_users = session.query(User).filter_by(active=True).all()\n",
    "\n",
    "# Print the active users\n",
    "for user in active_users:\n",
    "    print(f\"User ID: {user.id}, Username: {user.username}\")"
   ]
  },
  {
   "cell_type": "markdown",
   "metadata": {},
   "source": [
    "## 4. Django"
   ]
  },
  {
   "cell_type": "markdown",
   "metadata": {},
   "source": [
    "<b>Before (Without Django):</b> Creating a basic web application involves a lot of repetitive boilerplate code.<br>\n",
    "<b>Раніше (без Django):</b> створення базової веб-програми включає багато повторюваного шаблонного коду."
   ]
  },
  {
   "cell_type": "code",
   "execution_count": null,
   "metadata": {},
   "outputs": [],
   "source": [
    "# Simple server code (without Django)\n",
    "import http.server\n",
    "import socketserver\n",
    "\n",
    "PORT = 8000\n",
    "Handler = http.server.SimpleHTTPRequestHandler\n",
    "with socketserver.TCPServer((\"\", PORT), Handler) as httpd:\n",
    "    print(f\"Serving at port {PORT}\")\n",
    "    httpd.serve_forever()"
   ]
  },
  {
   "cell_type": "markdown",
   "metadata": {},
   "source": [
    "<b>After (With Django):</b> Django allows you to set up a web application in just a few lines.<br>\n",
    "<b>Після (з Django):</b> Django дозволяє налаштувати веб-програму всього за кілька рядків."
   ]
  },
  {
   "cell_type": "code",
   "execution_count": 61,
   "metadata": {},
   "outputs": [
    {
     "name": "stdout",
     "output_type": "stream",
     "text": [
      "Requirement already satisfied: django in c:\\users\\ks797\\appdata\\local\\programs\\python\\python312\\lib\\site-packages (5.1.2)\n",
      "Requirement already satisfied: asgiref<4,>=3.8.1 in c:\\users\\ks797\\appdata\\local\\programs\\python\\python312\\lib\\site-packages (from django) (3.8.1)\n",
      "Requirement already satisfied: sqlparse>=0.3.1 in c:\\users\\ks797\\appdata\\local\\programs\\python\\python312\\lib\\site-packages (from django) (0.5.1)\n",
      "Requirement already satisfied: tzdata in c:\\users\\ks797\\appdata\\local\\programs\\python\\python312\\lib\\site-packages (from django) (2024.2)\n"
     ]
    }
   ],
   "source": [
    "!pip install django"
   ]
  },
  {
   "cell_type": "code",
   "execution_count": null,
   "metadata": {},
   "outputs": [],
   "source": [
    "# Simple Django application\n",
    "from django.core.management import execute_from_command_line\n",
    "if __name__ == \"__main__\":\n",
    "    execute_from_command_line([\"manage.py\", \"runserver\"])"
   ]
  },
  {
   "cell_type": "markdown",
   "metadata": {},
   "source": [
    "## 5. Matplotlib/Seaborn"
   ]
  },
  {
   "cell_type": "markdown",
   "metadata": {},
   "source": [
    "Traditional Way Example (Multiple Lines with Matplotlib)<BR>\n",
    "Приклад традиційного способу (кілька рядків із Matplotlib)"
   ]
  },
  {
   "cell_type": "code",
   "execution_count": 67,
   "metadata": {},
   "outputs": [
    {
     "name": "stdout",
     "output_type": "stream",
     "text": [
      "Requirement already satisfied: matplotlib in c:\\users\\ks797\\appdata\\local\\programs\\python\\python312\\lib\\site-packages (3.9.2)\n",
      "Requirement already satisfied: contourpy>=1.0.1 in c:\\users\\ks797\\appdata\\local\\programs\\python\\python312\\lib\\site-packages (from matplotlib) (1.3.0)\n",
      "Requirement already satisfied: cycler>=0.10 in c:\\users\\ks797\\appdata\\local\\programs\\python\\python312\\lib\\site-packages (from matplotlib) (0.12.1)\n",
      "Requirement already satisfied: fonttools>=4.22.0 in c:\\users\\ks797\\appdata\\local\\programs\\python\\python312\\lib\\site-packages (from matplotlib) (4.54.1)\n",
      "Requirement already satisfied: kiwisolver>=1.3.1 in c:\\users\\ks797\\appdata\\local\\programs\\python\\python312\\lib\\site-packages (from matplotlib) (1.4.7)\n",
      "Requirement already satisfied: numpy>=1.23 in c:\\users\\ks797\\appdata\\local\\programs\\python\\python312\\lib\\site-packages (from matplotlib) (2.0.2)\n",
      "Requirement already satisfied: packaging>=20.0 in c:\\users\\ks797\\appdata\\local\\programs\\python\\python312\\lib\\site-packages (from matplotlib) (24.1)\n",
      "Requirement already satisfied: pillow>=8 in c:\\users\\ks797\\appdata\\local\\programs\\python\\python312\\lib\\site-packages (from matplotlib) (10.4.0)\n",
      "Requirement already satisfied: pyparsing>=2.3.1 in c:\\users\\ks797\\appdata\\local\\programs\\python\\python312\\lib\\site-packages (from matplotlib) (3.1.4)\n",
      "Requirement already satisfied: python-dateutil>=2.7 in c:\\users\\ks797\\appdata\\roaming\\python\\python312\\site-packages (from matplotlib) (2.9.0.post0)\n",
      "Requirement already satisfied: six>=1.5 in c:\\users\\ks797\\appdata\\roaming\\python\\python312\\site-packages (from python-dateutil>=2.7->matplotlib) (1.16.0)\n"
     ]
    }
   ],
   "source": [
    "!pip install matplotlib"
   ]
  },
  {
   "cell_type": "code",
   "execution_count": 68,
   "metadata": {},
   "outputs": [
    {
     "data": {
      "image/png": "[encoded data removed]",
      "text/plain": [
       "<Figure size 640x480 with 1 Axes>"
      ]
     },
     "metadata": {},
     "output_type": "display_data"
    }
   ],
   "source": [
    "import matplotlib.pyplot as plt\n",
    "\n",
    "categories = [\"A\", \"B\", \"C\", \"D\"]\n",
    "values = [10, 15, 7, 12]\n",
    "\n",
    "# Creating the bar plot\n",
    "plt.bar(categories, values)\n",
    "plt.xlabel(\"Category\")  # Label for x-axis\n",
    "plt.ylabel(\"Value\")  # Label for y-axis\n",
    "plt.title(\"Bar Plot of Categories\")  # Plot title\n",
    "plt.show()  # Show the plot"
   ]
  },
  {
   "cell_type": "markdown",
   "metadata": {},
   "source": [
    "Seaborn Example (Single Line):<br>\n",
    "Приклад Seaborn (один рядок):"
   ]
  },
  {
   "cell_type": "code",
   "execution_count": null,
   "metadata": {},
   "outputs": [],
   "source": [
    "!pip install seaborn"
   ]
  },
  {
   "cell_type": "code",
   "execution_count": 114,
   "metadata": {},
   "outputs": [],
   "source": [
    "categories = [\"A\", \"B\", \"C\", \"D\", \"D\", \"D\"]\n",
    "values = [10, 15, 7, 12, 16, 8]"
   ]
  },
  {
   "cell_type": "code",
   "execution_count": 115,
   "metadata": {},
   "outputs": [
    {
     "data": {
      "text/plain": [
       "<Axes: >"
      ]
     },
     "execution_count": 115,
     "metadata": {},
     "output_type": "execute_result"
    },
    {
     "data": {
      "image/png": "[encoded data removed]",
      "text/plain": [
       "<Figure size 640x480 with 1 Axes>"
      ]
     },
     "metadata": {},
     "output_type": "display_data"
    }
   ],
   "source": [
    "import seaborn as sns\n",
    "\n",
    "# Assuming 'df' is a DataFrame with 'category' and 'value' columns\n",
    "# sns.barplot(x=\"category\", y=\"value\", data=df) #that Much is Enough - original\n",
    "sns.barplot(x=categories, y=values) #that Much is Enough"
   ]
  },
  {
   "cell_type": "markdown",
   "metadata": {},
   "source": [
    "## 6. Requests"
   ]
  },
  {
   "cell_type": "markdown",
   "metadata": {},
   "source": [
    "Using the simple syntax of Requests for HTTP, you can make requests (GET, POST, PUT, DELETE, etc.) without the hassle of managing low-level details like sockets and HTTP headers.<br>\n",
    "Використовуючи простий синтаксис запитів для HTTP, ви можете надсилати запити (GET, POST, PUT, DELETE тощо) без клопоту щодо керування деталями низького рівня, такими як сокети та заголовки HTTP."
   ]
  },
  {
   "cell_type": "markdown",
   "metadata": {},
   "source": [
    "look program in traditional way<br>\n",
    "дивіться програму традиційним способом"
   ]
  },
  {
   "cell_type": "code",
   "execution_count": null,
   "metadata": {},
   "outputs": [],
   "source": [
    "import http.client\n",
    "import json\n",
    "\n",
    "conn = http.client.HTTPSConnection(\"api.example.com\")\n",
    "conn.request(\"GET\", \"/data\")\n",
    "\n",
    "response = conn.getresponse()\n",
    "data = response.read()\n",
    "parsed_data = json.loads(data)\n",
    "\n",
    "conn.close()"
   ]
  },
  {
   "cell_type": "markdown",
   "metadata": {},
   "source": [
    "With the Requests library, this can be done in a single line:<br>\n",
    "За допомогою бібліотеки Requests це можна зробити одним рядком:"
   ]
  },
  {
   "cell_type": "code",
   "execution_count": 125,
   "metadata": {},
   "outputs": [
    {
     "name": "stdout",
     "output_type": "stream",
     "text": [
      "<Response [403]>\n"
     ]
    }
   ],
   "source": [
    "import requests\n",
    "\n",
    "response = requests.get('https://home.masssage.kyiv.ua/data')\n",
    "print(response)"
   ]
  },
  {
   "cell_type": "markdown",
   "metadata": {},
   "source": [
    "## 7. BeautifulSoup"
   ]
  },
  {
   "cell_type": "markdown",
   "metadata": {},
   "source": [
    "BeautifulSoup can be thought of as a line eliminator. When dealing with HTML to extract data, the process can get complex and time-consuming, often leading to large, bulky chunks of code. But with BeautifulSoup, you can simplify this, cutting down hundreds of lines into just a few.<br>\n",
    "BeautifulSoup можна розглядати як засіб для усунення ліній. Коли ви маєте справу з HTML для отримання даних, процес може бути складним і трудомістким, що часто призводить до великих, об’ємних фрагментів коду. Але з BeautifulSoup ви можете спростити це, скоротивши сотні рядків лише на кілька."
   ]
  },
  {
   "cell_type": "code",
   "execution_count": 127,
   "metadata": {},
   "outputs": [
    {
     "name": "stdout",
     "output_type": "stream",
     "text": [
      "['https://example.com/page1', 'https://example.com/page2']\n"
     ]
    }
   ],
   "source": [
    "from html.parser import HTMLParser\n",
    "\n",
    "class MyHTMLParser(HTMLParser):\n",
    "    def __init__(self):\n",
    "        super().__init__()\n",
    "        self.links = []\n",
    "\n",
    "    def handle_starttag(self, tag, attrs):\n",
    "        if tag == 'a':\n",
    "            for attr in attrs:\n",
    "                if attr[0] == 'href':\n",
    "                    self.links.append(attr[1])\n",
    "\n",
    "# Sample HTML content\n",
    "html_content = \"\"\"\n",
    "<html>\n",
    "<head><title>Sample Page</title></head>\n",
    "<body>\n",
    "<a href=\"https://example.com/page1\">Link 1</a>\n",
    "<a href=\"https://example.com/page2\">Link 2</a>\n",
    "</body>\n",
    "</html>\n",
    "\"\"\"\n",
    "\n",
    "# Parse the HTML\n",
    "parser = MyHTMLParser()\n",
    "parser.feed(html_content)\n",
    "\n",
    "# Output the extracted links\n",
    "print(parser.links)"
   ]
  },
  {
   "cell_type": "markdown",
   "metadata": {},
   "source": [
    "With BeautifulSoup, the same program can be done in a more straightforward eye catchy way:<br>\n",
    "За допомогою BeautifulSoup цю ж програму можна виконати більш простим способом, що привертає увагу:"
   ]
  },
  {
   "cell_type": "code",
   "execution_count": null,
   "metadata": {},
   "outputs": [],
   "source": [
    "!pip install bs4"
   ]
  },
  {
   "cell_type": "code",
   "execution_count": 130,
   "metadata": {},
   "outputs": [
    {
     "name": "stdout",
     "output_type": "stream",
     "text": [
      "https://example.com/page1\n",
      "https://example.com/page2\n"
     ]
    }
   ],
   "source": [
    "from bs4 import BeautifulSoup\n",
    "\n",
    "# Sample HTML content\n",
    "html_content = \"\"\"\n",
    "<html>\n",
    "<head><title>Sample Page</title></head>\n",
    "<body>\n",
    "<a href=\"https://example.com/page1\">Link 1</a>\n",
    "<a href=\"https://example.com/page2\">Link 2</a>\n",
    "</body>\n",
    "</html>\n",
    "\"\"\"\n",
    "\n",
    "# Parse the HTML and extract all 'a' tags\n",
    "soup = BeautifulSoup(html_content, 'html.parser')\n",
    "links = soup.find_all('a')\n",
    "\n",
    "# Output the extracted links\n",
    "for link in links:\n",
    "    print(link['href'])"
   ]
  },
  {
   "cell_type": "markdown",
   "metadata": {},
   "source": [
    "## 8. Regex (re)"
   ]
  },
  {
   "cell_type": "markdown",
   "metadata": {},
   "source": [
    "The re (Regular Expression) module in Python is used for string manipulation and pattern matching. Basically, it helps you find sequences of characters that match a specific pattern, like \"abbbaaaccbac\". You can use it to identify substrings that follow certain rules, and then extract or replace parts of a string.<br>\n",
    "Модуль re (регулярний вираз) у Python використовується для маніпулювання рядками та зіставлення шаблонів. По суті, це допомагає вам знайти послідовності символів, які відповідають певному шаблону, наприклад \"abbbaaaccbac\". Ви можете використовувати його для ідентифікації підрядків, які відповідають певним правилам, а потім видобувати або замінювати частини рядка."
   ]
  },
  {
   "cell_type": "markdown",
   "metadata": {},
   "source": [
    "Without the re module, you'd have to manually loop through each string, checking if each character matches a specific condition — a tedious and error-prone process.<br>\n",
    "Без модуля re вам довелося б вручну переглядати кожен рядок, перевіряючи, чи кожен символ відповідає певній умові — виснажливий і схильний до помилок процес."
   ]
  },
  {
   "cell_type": "code",
   "execution_count": 133,
   "metadata": {},
   "outputs": [
    {
     "name": "stdout",
     "output_type": "stream",
     "text": [
      "['support@example.com.ua', 'sales@domain.com']\n"
     ]
    }
   ],
   "source": [
    "# A more manual approach for email extraction\n",
    "text = \"Contact us at support@example.com.ua or sales@domain.com for more info.\"\n",
    "\n",
    "emails = []\n",
    "words = text.split()\n",
    "\n",
    "# Checking for emails manually\n",
    "for word in words:\n",
    "    if \"@\" in word and \".\" in word:\n",
    "        emails.append(word)\n",
    "\n",
    "# Output the found emails\n",
    "print(emails)"
   ]
  },
  {
   "cell_type": "markdown",
   "metadata": {},
   "source": [
    "With Regex, you can easily match complex patterns like email addresses in a single line:<br>\n",
    "За допомогою Regex ви можете легко зіставляти складні шаблони, наприклад адреси електронної пошти, в одному рядку:"
   ]
  },
  {
   "cell_type": "code",
   "execution_count": 134,
   "metadata": {},
   "outputs": [
    {
     "name": "stdout",
     "output_type": "stream",
     "text": [
      "['support@example.com.ua', 'sales@domain.com']\n"
     ]
    }
   ],
   "source": [
    "import re\n",
    "\n",
    "# # Sample text\n",
    "# text = \"Contact us at support@example.com or sales@domain.com for more info.\"\n",
    "\n",
    "# Find all email addresses in the text\n",
    "emails = re.findall(r'\\b[A-Za-z0-9._%+-]+@[A-Za-z0-9.-]+\\.[A-Z|a-z]{2,}\\b', text)\n",
    "\n",
    "# Output the found emails\n",
    "print(emails)"
   ]
  },
  {
   "cell_type": "markdown",
   "metadata": {},
   "source": [
    "## 9. Dask"
   ]
  },
  {
   "cell_type": "markdown",
   "metadata": {},
   "source": [
    "To understand how flexible Dask is, you need to walk through the following code example. In this script, you’ll see how, without Dask, you end up with large, bulky code that’s time-consuming and poorly represented. Not only that, but processing data manually becomes tedious, especially when using Pandas for handling large datasets.<br>\n",
    "Щоб зрозуміти, наскільки гнучким є Dask, вам потрібно пройти через наступний приклад коду. У цьому сценарії ви побачите, як без Dask ви отримаєте великий, громіздкий код, який забирає багато часу та погано представлений. Мало того, обробка даних вручну стає виснажливою, особливо при використанні Pandas для обробки великих наборів даних."
   ]
  },
  {
   "cell_type": "code",
   "execution_count": 148,
   "metadata": {},
   "outputs": [
    {
     "data": {
      "text/html": [
       "<div>\n",
       "<style scoped>\n",
       "    .dataframe tbody tr th:only-of-type {\n",
       "        vertical-align: middle;\n",
       "    }\n",
       "\n",
       "    .dataframe tbody tr th {\n",
       "        vertical-align: top;\n",
       "    }\n",
       "\n",
       "    .dataframe thead th {\n",
       "        text-align: right;\n",
       "    }\n",
       "</style>\n",
       "<table border=\"1\" class=\"dataframe\">\n",
       "  <thead>\n",
       "    <tr style=\"text-align: right;\">\n",
       "      <th></th>\n",
       "      <th>value</th>\n",
       "      <th>time</th>\n",
       "    </tr>\n",
       "    <tr>\n",
       "      <th>category</th>\n",
       "      <th></th>\n",
       "      <th></th>\n",
       "    </tr>\n",
       "  </thead>\n",
       "  <tbody>\n",
       "    <tr>\n",
       "      <th>A</th>\n",
       "      <td>10.0</td>\n",
       "      <td>12.000000</td>\n",
       "    </tr>\n",
       "    <tr>\n",
       "      <th>B</th>\n",
       "      <td>15.0</td>\n",
       "      <td>22.000000</td>\n",
       "    </tr>\n",
       "    <tr>\n",
       "      <th>C</th>\n",
       "      <td>7.0</td>\n",
       "      <td>11.000000</td>\n",
       "    </tr>\n",
       "    <tr>\n",
       "      <th>D</th>\n",
       "      <td>12.0</td>\n",
       "      <td>9.333333</td>\n",
       "    </tr>\n",
       "  </tbody>\n",
       "</table>\n",
       "</div>"
      ],
      "text/plain": [
       "          value       time\n",
       "category                  \n",
       "A          10.0  12.000000\n",
       "B          15.0  22.000000\n",
       "C           7.0  11.000000\n",
       "D          12.0   9.333333"
      ]
     },
     "execution_count": 148,
     "metadata": {},
     "output_type": "execute_result"
    }
   ],
   "source": [
    "import pandas as pd\n",
    "\n",
    "# Read and process each CSV chunk manually\n",
    "chunks = pd.read_csv('data1.csv', chunksize=10000)\n",
    "df_list = []\n",
    "\n",
    "for chunk in chunks:\n",
    "    grouped_chunk = chunk.groupby('category').mean()\n",
    "    df_list.append(grouped_chunk)\n",
    "\n",
    "# Combine all chunks after processing\n",
    "final_df = pd.concat(df_list)\n",
    "# print(final_df)\n",
    "final_df"
   ]
  },
  {
   "cell_type": "markdown",
   "metadata": {},
   "source": [
    "in Dask its look like<br>\n",
    "у Dask це виглядає так"
   ]
  },
  {
   "cell_type": "code",
   "execution_count": null,
   "metadata": {},
   "outputs": [],
   "source": [
    "!pip install dask.dataframe"
   ]
  },
  {
   "cell_type": "code",
   "execution_count": 147,
   "metadata": {},
   "outputs": [
    {
     "data": {
      "text/html": [
       "<div>\n",
       "<style scoped>\n",
       "    .dataframe tbody tr th:only-of-type {\n",
       "        vertical-align: middle;\n",
       "    }\n",
       "\n",
       "    .dataframe tbody tr th {\n",
       "        vertical-align: top;\n",
       "    }\n",
       "\n",
       "    .dataframe thead th {\n",
       "        text-align: right;\n",
       "    }\n",
       "</style>\n",
       "<table border=\"1\" class=\"dataframe\">\n",
       "  <thead>\n",
       "    <tr style=\"text-align: right;\">\n",
       "      <th></th>\n",
       "      <th>value</th>\n",
       "      <th>time</th>\n",
       "    </tr>\n",
       "    <tr>\n",
       "      <th>category</th>\n",
       "      <th></th>\n",
       "      <th></th>\n",
       "    </tr>\n",
       "  </thead>\n",
       "  <tbody>\n",
       "    <tr>\n",
       "      <th>A</th>\n",
       "      <td>10.0</td>\n",
       "      <td>12.000000</td>\n",
       "    </tr>\n",
       "    <tr>\n",
       "      <th>B</th>\n",
       "      <td>15.0</td>\n",
       "      <td>22.000000</td>\n",
       "    </tr>\n",
       "    <tr>\n",
       "      <th>C</th>\n",
       "      <td>7.0</td>\n",
       "      <td>11.000000</td>\n",
       "    </tr>\n",
       "    <tr>\n",
       "      <th>D</th>\n",
       "      <td>12.0</td>\n",
       "      <td>9.333333</td>\n",
       "    </tr>\n",
       "  </tbody>\n",
       "</table>\n",
       "</div>"
      ],
      "text/plain": [
       "          value       time\n",
       "category                  \n",
       "A          10.0  12.000000\n",
       "B          15.0  22.000000\n",
       "C           7.0  11.000000\n",
       "D          12.0   9.333333"
      ]
     },
     "execution_count": 147,
     "metadata": {},
     "output_type": "execute_result"
    }
   ],
   "source": [
    "import dask.dataframe as dd\n",
    "\n",
    "# Read multiple CSV files, group by category, compute the mean, and parallelize the operation\n",
    "df = dd.read_csv('data*.csv').groupby('category').mean().compute()\n",
    "\n",
    "# Output the result\n",
    "# print(df)\n",
    "df"
   ]
  },
  {
   "cell_type": "markdown",
   "metadata": {},
   "source": [
    "## 10. PyAutoGUI"
   ]
  },
  {
   "cell_type": "markdown",
   "metadata": {},
   "source": [
    "You may have encountered various online forms, like Google Forms or job application forms, where your previous data pops up and repeats the same steps automatically the next time.<br>\n",
    "Можливо, ви стикалися з різноманітними онлайн-формами, як-от Google Forms або анкетами для прийому на роботу, де ваші попередні дані спливають і наступного разу автоматично повторюють ті самі кроки.\n",
    "\n",
    "This works similarly to how PyAutoGUI can function. If the form’s layout stays the same, PyAutoGUI will repeat the exact same actions, saving you from typing out the details every time.<br>\n",
    "Це працює так само, як може функціонувати PyAutoGUI. Якщо макет форми залишається незмінним, PyAutoGUI повторюватиме ті самі дії, позбавляючи вас необхідності щоразу вводити деталі.\n",
    "\n",
    "This manual process would look something like this:<br>\n",
    "Цей ручний процес виглядатиме приблизно так:\n",
    "\n",
    "Click on the ‘Name’ field and type John Doe.<br>\n",
    "Натисніть поле «Ім’я» і введіть John Doe.<br>\n",
    "Click on the ‘Email’ field and type john@example.com.<br>\n",
    "Натисніть поле «Електронна адреса» і введіть john@example.com.<br>\n",
    "Click on the ‘Submit’ button to submit the form.<br>\n",
    "Натисніть кнопку «Надіслати», щоб надіслати форму.<br>\n",
    "\n",
    "Automates GUI tasks (clicking, typing, etc.) in minimal code.<br>\n",
    "Автоматизує завдання графічного інтерфейсу користувача (клацання, введення тексту тощо) у мінімальному коді.<br>\n",
    "But this can be minimized and work like your personal assistant with the help of this script.<br>\n",
    "Але це можна мінімізувати і працювати як ваш персональний помічник за допомогою цього скрипта."
   ]
  },
  {
   "cell_type": "code",
   "execution_count": 154,
   "metadata": {},
   "outputs": [],
   "source": [
    "import pyautogui\n",
    "import time\n",
    "\n",
    "# Wait for the page to load before starting\n",
    "time.sleep(3)\n",
    "\n",
    "# Click on the 'Name' field and enter name\n",
    "pyautogui.click(x=300, y=400)  # Coordinates of the Name field\n",
    "pyautogui.write('John Doe')\n",
    "\n",
    "# Click on the 'Email' field and enter email\n",
    "pyautogui.click(x=300, y=500)  # Coordinates of the Email field\n",
    "pyautogui.write('john@example.com')\n",
    "\n",
    "# Click the 'Submit' button\n",
    "pyautogui.click(x=300, y=600)  # Coordinates of the Submit button"
   ]
  },
  {
   "cell_type": "markdown",
   "metadata": {},
   "source": [
    "## 11. OpenCV"
   ]
  },
  {
   "cell_type": "code",
   "execution_count": 155,
   "metadata": {},
   "outputs": [
    {
     "ename": "SyntaxError",
     "evalue": "incomplete input (2381287534.py, line 23)",
     "output_type": "error",
     "traceback": [
      "\u001b[1;36m  Cell \u001b[1;32mIn[155], line 23\u001b[1;36m\u001b[0m\n\u001b[1;33m    edges[i, j] = min(255, np.sqrt(gx**2 + gy**2\u001b[0m\n\u001b[1;37m                                                ^\u001b[0m\n\u001b[1;31mSyntaxError\u001b[0m\u001b[1;31m:\u001b[0m incomplete input\n"
     ]
    }
   ],
   "source": [
    "import numpy as np\n",
    "from PIL import Image\n",
    "\n",
    "# Load the image and convert it to grayscale\n",
    "img = Image.open('image.jpg').convert('L')\n",
    "img_array = np.array(img)\n",
    "\n",
    "# Define Sobel operator kernels\n",
    "sobel_x = np.array([[-1, 0, 1], [-2, 0, 2], [-1, 0, 1]])\n",
    "sobel_y = np.array([[1, 2, 1], [0, 0, 0], [-1, -2, -1]])\n",
    "\n",
    "# Get image dimensions\n",
    "rows, cols = img_array.shape\n",
    "\n",
    "# Apply the Sobel operator manually\n",
    "edges = np.zeros_like(img_array)\n",
    "\n",
    "for i in range(1, rows-1):\n",
    "    for j in range(1, cols-1):\n",
    "        gx = np.sum(sobel_x * img_array[i-1:i+2, j-1:j+2])\n",
    "        gy = np.sum(sobel_y * img_array[i-1:i+2, j-1:j+2])\n",
    "        # Gradient magnitude\n",
    "        edges[i, j] = min(255, np.sqrt(gx**2 + gy**2"
   ]
  },
  {
   "cell_type": "markdown",
   "metadata": {},
   "source": [
    "Edge Detection: With OpenCV (Minimal Code)"
   ]
  },
  {
   "cell_type": "code",
   "execution_count": 1,
   "metadata": {},
   "outputs": [
    {
     "name": "stdout",
     "output_type": "stream",
     "text": [
      "[[255 255 255 ... 255 255 255]\n",
      " [255 255 255 ... 255 255 255]\n",
      " [255 255 255 ... 255 255 255]\n",
      " ...\n",
      " [255 255 255 ... 255 255 255]\n",
      " [255 255 255 ... 255 255 255]\n",
      " [255 255 255 ... 255 255 255]]\n"
     ]
    }
   ],
   "source": [
    "import cv2\n",
    "\n",
    "# Load the image\n",
    "img = cv2.imread('image.jpg', 0)\n",
    "# print(img)\n",
    "\n",
    "# Perform edge detection using Canny\n",
    "edges = cv2.Canny(img, 100, 200)\n",
    "\n",
    "# Display and save the resulting edges\n",
    "cv2.imshow('Edges', edges)\n",
    "cv2.imwrite('edges_cv.jpg', edges)\n",
    "cv2.waitKey(0)\n",
    "cv2.destroyAllWindows()"
   ]
  }
 ],
 "metadata": {
  "kernelspec": {
   "display_name": "Python 3",
   "language": "python",
   "name": "python3"
  },
  "language_info": {
   "codemirror_mode": {
    "name": "ipython",
    "version": 3
   },
   "file_extension": ".py",
   "mimetype": "text/x-python",
   "name": "python",
   "nbconvert_exporter": "python",
   "pygments_lexer": "ipython3",
   "version": "3.12.5"
  }
 },
 "nbformat": 4,
 "nbformat_minor": 2
}
