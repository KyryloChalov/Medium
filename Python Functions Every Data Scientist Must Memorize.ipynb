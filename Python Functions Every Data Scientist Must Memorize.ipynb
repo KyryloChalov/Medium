{
 "cells": [
  {
   "cell_type": "markdown",
   "metadata": {},
   "source": [
    "# 10 Python Functions Every Data Scientist Must Memorize"
   ]
  },
  {
   "cell_type": "markdown",
   "metadata": {},
   "source": [
    "#### 1. Print Function\n",
    "The print() function is one of the most basic yet powerful tools in Python. It allows you to display results. Notice you can play with the “sep ” parameter.<br>\n",
    "Функція print() є одним із найпростіших, але потужних інструментів у Python. Він дозволяє відображати результати. Зверніть увагу, що ви можете грати з параметром \"sep \"."
   ]
  },
  {
   "cell_type": "code",
   "execution_count": 1,
   "metadata": {},
   "outputs": [
    {
     "name": "stdout",
     "output_type": "stream",
     "text": [
      "Product: Laptop\n",
      "Total Sales: 1500\n",
      "Total Revenue: 3000 USD\n"
     ]
    }
   ],
   "source": [
    "def display_sales_info(product, sales, revenue):\n",
    "    print('Product', product, sep=': ')\n",
    "    print('Total Sales', sales, sep=': ')\n",
    "    print('Total Revenue', revenue, sep=': ')\n",
    "\n",
    "display_sales_info('Laptop', 1500, '3000 USD')"
   ]
  },
  {
   "cell_type": "markdown",
   "metadata": {},
   "source": [
    "#### 2. Help Function\n",
    "The help() function is invaluable when you need to understand how a particular function or module works. It provides the documentation for the specified function or module.<br>\n",
    "Функція help() є неоціненною, коли вам потрібно зрозуміти, як працює певна функція або модуль. Він надає документацію для вказаної функції або модуля."
   ]
  },
  {
   "cell_type": "code",
   "execution_count": 2,
   "metadata": {},
   "outputs": [
    {
     "name": "stdout",
     "output_type": "stream",
     "text": [
      "Help on function calculate_discounted_price in module __main__:\n",
      "\n",
      "calculate_discounted_price(price, discount)\n",
      "    Calculate the discounted price of a product.\n",
      "    price: original price of the product\n",
      "    discount: discount percentage to be applied returns: float\n",
      "\n"
     ]
    }
   ],
   "source": [
    "def calculate_discounted_price(price, discount): \n",
    "    \"\"\" Calculate the discounted price of a product. \n",
    "    price: original price of the product \n",
    "    discount: discount percentage to be applied returns: float \n",
    "    \"\"\" \n",
    "    return price * (1 - discount / 100)\n",
    "\n",
    "\n",
    "# Example of using the help function \n",
    "help(calculate_discounted_price)"
   ]
  },
  {
   "cell_type": "code",
   "execution_count": 3,
   "metadata": {},
   "outputs": [
    {
     "name": "stdout",
     "output_type": "stream",
     "text": [
      "Help on built-in function print in module builtins:\n",
      "\n",
      "print(*args, sep=' ', end='\\n', file=None, flush=False)\n",
      "    Prints the values to a stream, or to sys.stdout by default.\n",
      "\n",
      "    sep\n",
      "      string inserted between values, default a space.\n",
      "    end\n",
      "      string appended after the last value, default a newline.\n",
      "    file\n",
      "      a file-like object (stream); defaults to the current sys.stdout.\n",
      "    flush\n",
      "      whether to forcibly flush the stream.\n",
      "\n"
     ]
    }
   ],
   "source": [
    "help(print)"
   ]
  },
  {
   "cell_type": "markdown",
   "metadata": {},
   "source": [
    "#### 3. Range Function\n",
    "The range() function generates a sequence of numbers, which is useful for iterating over with loops.<br>\n",
    "Функція range() генерує послідовність чисел, що корисно для перебору за допомогою циклів."
   ]
  },
  {
   "cell_type": "code",
   "execution_count": 4,
   "metadata": {},
   "outputs": [
    {
     "name": "stdout",
     "output_type": "stream",
     "text": [
      "[1, 2, 3, 4, 5, 6, 7]\n"
     ]
    }
   ],
   "source": [
    "def generate_sales_days(start_day, end_day):\n",
    "    return list(range(start_day, end_day + 1))\n",
    "\n",
    "print(generate_sales_days(1, 7)) # Generates days of the week"
   ]
  },
  {
   "cell_type": "markdown",
   "metadata": {},
   "source": [
    "#### 4. Map Function\n",
    "The map() function applies a given function to all items in an input list.<br>\n",
    "Функція map() застосовує задану функцію до всіх елементів у вхідному списку."
   ]
  },
  {
   "cell_type": "code",
   "execution_count": 5,
   "metadata": {},
   "outputs": [
    {
     "name": "stdout",
     "output_type": "stream",
     "text": [
      "[90.0, 180.0, 270.0, 360.0, 450.0]\n",
      "Help on function apply_discount in module __main__:\n",
      "\n",
      "apply_discount(prices, discount)\n",
      "\n"
     ]
    }
   ],
   "source": [
    "def apply_discount(prices, discount):\n",
    "    return list(map(lambda x: x * (1 - discount / 100), prices))\n",
    "\n",
    "print(apply_discount([100, 200, 300, 400, 500], 10)) # Apply a 10% discount\n",
    "\n",
    "help(apply_discount)"
   ]
  },
  {
   "cell_type": "markdown",
   "metadata": {},
   "source": [
    "#### 5. Filter Function\n",
    "The filter() function constructs an iterator from elements of an iterable for which a function returns true.<br>\n",
    "Функція filter() будує ітератор з елементів ітерабельного об'єкта, для якого функція повертає true."
   ]
  },
  {
   "cell_type": "code",
   "execution_count": 6,
   "metadata": {},
   "outputs": [
    {
     "name": "stdout",
     "output_type": "stream",
     "text": [
      "[200, 300]\n"
     ]
    }
   ],
   "source": [
    "def filter_high_sales(sales, threshold):\n",
    "    return list(filter(lambda x: x > threshold, sales))\n",
    "\n",
    "print(filter_high_sales([100, 200, 50, 300, 150], 150)) # Filter sales greater than 150\n"
   ]
  },
  {
   "cell_type": "markdown",
   "metadata": {},
   "source": [
    "#### 6. Sorted Function\n",
    "The sorted() function returns a sorted list from the items in an iterable. Use reverse=True to reverse the order.<br>\n",
    "Функція sorted() повертає відсортований список з елементів у ітерабельному об'єкті. Використовуйте reverse=True, щоб змінити порядок."
   ]
  },
  {
   "cell_type": "code",
   "execution_count": 7,
   "metadata": {},
   "outputs": [
    {
     "name": "stdout",
     "output_type": "stream",
     "text": [
      "[{'Product': 'Laptop', 'Sales': 150},\n",
      " {'Product': 'Keyboard', 'Sales': 200},\n",
      " {'Product': 'Mouse', 'Sales': 300}]\n"
     ]
    }
   ],
   "source": [
    "from pprint import pprint\n",
    "def sort_sales_data_by_sales(data):\n",
    "    return sorted(data, key=lambda x: x['Sales'])\n",
    "sales_data = [\n",
    "    {'Product': 'Laptop', 'Sales': 150},\n",
    "    {'Product': 'Mouse', 'Sales': 300},\n",
    "    {'Product': 'Keyboard', 'Sales': 200},\n",
    "]\n",
    "\n",
    "pprint(sort_sales_data_by_sales(sales_data))"
   ]
  },
  {
   "cell_type": "markdown",
   "metadata": {},
   "source": [
    "#### 7. Enumerate Function\n",
    "The enumerate() function adds a counter to an iterable and returns it in a form of an enumerate object.<br>\n",
    "Функція enumerate() додає лічильник до ітерабельного об'єкта та повертає його у вигляді об'єкта переліку."
   ]
  },
  {
   "cell_type": "code",
   "execution_count": 8,
   "metadata": {},
   "outputs": [
    {
     "name": "stdout",
     "output_type": "stream",
     "text": [
      "1. Laptop\n",
      "2. Mouse\n",
      "3. Keyboard\n"
     ]
    }
   ],
   "source": [
    "def list_products_with_index(products):\n",
    "    for index, product in enumerate(products):\n",
    "        # print(f\"{index + 1}. {product}\")\n",
    "        print(index + 1, product, sep='. ')\n",
    "\n",
    "list_products_with_index(['Laptop', 'Mouse', 'Keyboard'])"
   ]
  },
  {
   "cell_type": "markdown",
   "metadata": {},
   "source": [
    "#### 8. Zip Function\n",
    "The zip() function returns an iterator of tuples, where the first item in each passed iterator is paired together, and then the second item in each passed iterator is paired together, etc.<br>\n",
    "Функція zip() повертає ітератор кортежів, де перший елемент у кожному пройденому ітераторі парується разом, а потім другий елемент у кожному пройденому ітераторі парується разом тощо."
   ]
  },
  {
   "cell_type": "code",
   "execution_count": 9,
   "metadata": {},
   "outputs": [
    {
     "name": "stdout",
     "output_type": "stream",
     "text": [
      "[('Laptop', 150), ('Mouse', 300), ('Keyboard', 200)]\n"
     ]
    }
   ],
   "source": [
    "def combine_sales_data(products, sales):\n",
    "    return list(zip(products, sales))\n",
    "\n",
    "print(combine_sales_data(['Laptop', 'Mouse', 'Keyboard'], [150, 300, 200]))"
   ]
  },
  {
   "cell_type": "markdown",
   "metadata": {},
   "source": [
    "#### 9. Open Function\n",
    "The open() function opens a file, returning a file object that allows you to read from or write to the file.<br>\n",
    "Функція open() відкриває файл, повертаючи файловий об'єкт, який дозволяє читати з файлу або записувати його."
   ]
  },
  {
   "cell_type": "code",
   "execution_count": 10,
   "metadata": {},
   "outputs": [
    {
     "name": "stdout",
     "output_type": "stream",
     "text": [
      "Product: Laptop\n",
      "Sales: 150\n",
      "Product: Laptop\n",
      "Sales: 150\n",
      "Product: Mouse\n",
      "Sales: 300\n"
     ]
    }
   ],
   "source": [
    "def write_sales_to_file(filename, content):\n",
    "    \"\"\"Writes content into file\"\"\"\n",
    "    with open(filename, \"w\") as file:\n",
    "        file.write(content)\n",
    "\n",
    "def read_sales_file(filename):\n",
    "    \"\"\"Reads content in file only\"\"\"\n",
    "    with open(filename, \"r\") as file:\n",
    "        return file.read()\n",
    "\n",
    "def append_sales_to_file(filename, content):\n",
    "    \"\"\"Appends new content to original content\"\"\"\n",
    "    with open(filename, \"a\") as file:\n",
    "        file.write(content)\n",
    "\n",
    "write_sales_to_file(\"sales.txt\", \"Product: Laptop\\nSales: 150\")\n",
    "print(read_sales_file(\"sales.txt\"))\n",
    "\n",
    "append_sales_to_file(\"sales.txt\", \"\\nProduct: Mouse\\nSales: 300\")\n",
    "print(read_sales_file(\"sales.txt\"))"
   ]
  },
  {
   "cell_type": "markdown",
   "metadata": {},
   "source": [
    "#### 10 Sum Function:\n",
    "The sum() function sums the items of an iterable from left to right and returns the total. You can also set the “start” parameter to add to a number.<br>\n",
    "Функція sum() підсумовує елементи ітерабельного об'єкта зліва направо і повертає підсумок. Ви також можете встановити параметр \"start\" для додавання до числа."
   ]
  },
  {
   "cell_type": "code",
   "execution_count": 11,
   "metadata": {},
   "outputs": [
    {
     "name": "stdout",
     "output_type": "stream",
     "text": [
      "650\n",
      "650\n"
     ]
    }
   ],
   "source": [
    "def calculate_total_sales(sales):\n",
    "    # sum = 0\n",
    "    # for sale in sales:\n",
    "    #     sum += sale\n",
    "    # return sum\n",
    "    return sum(sales)\n",
    "\n",
    "print(calculate_total_sales([150, 300, 200]))\n",
    "print(sum([150, 300, 200]))"
   ]
  },
  {
   "cell_type": "markdown",
   "metadata": {},
   "source": [
    "#### Honorable Mentions"
   ]
  },
  {
   "cell_type": "markdown",
   "metadata": {},
   "source": [
    "* dict.get() — a dictionary method that retrieves the value associated with a specified key, returning a default value if the key is not found.<br>\n",
    "dict.get() — метод словника, який отримує значення, пов'язане з вказаним ключем, повертаючи значення за замовчуванням, якщо ключ не знайдено.<br><br>\n",
    "* requests.get( ) — sends a GET request to a specified URL and returns a Response object containing the server's response data.<br>\n",
    "requests.get( ) — відправляє GET-запит на вказаний URL та повертає об'єкт Response, що містить дані відповіді сервера.<br><br>\n",
    "* response.json() — parses the JSON content of a Response object and returns it as a Python dictionary.<br>\n",
    "response.json() — аналізує JSON-контент об'єкту Response та повертає його у вигляді словника Python.<br><br>\n",
    "* json.load() — reads a JSON formatted file and converts its content into a corresponding Python dictionary or list.<br>\n",
    "json.load() — читає файл у форматі JSON та перетворює його вміст на відповідний словник або список Python.<br><br>\n",
    "* df.to_csv() — writes the contents of a DataFrame to a CSV file, with various options for specifying the file path, delimiter, and other formatting parameters.<br>\n",
    "df.to_csv() — записує вміст DataFrame у CSV-файл, з різними варіантами вказівки шляху до файлу, роздільника та інших параметрів форматування.<br><br>\n",
    "* join() — concatenates the elements of an iterable (such as a list or tuple) into a single string, with a specified separator between each element.<br>\n",
    "join() — об'єднує елементи ітерабельного об'єкта (такі як список або кортеж) в один рядок, з заданим роздільником між кожним елементом."
   ]
  }
 ],
 "metadata": {
  "kernelspec": {
   "display_name": "Python 3",
   "language": "python",
   "name": "python3"
  },
  "language_info": {
   "codemirror_mode": {
    "name": "ipython",
    "version": 3
   },
   "file_extension": ".py",
   "mimetype": "text/x-python",
   "name": "python",
   "nbconvert_exporter": "python",
   "pygments_lexer": "ipython3",
   "version": "3.13.0"
  }
 },
 "nbformat": 4,
 "nbformat_minor": 2
}
